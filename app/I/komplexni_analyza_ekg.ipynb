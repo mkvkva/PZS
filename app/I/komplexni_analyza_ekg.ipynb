{
 "cells": [
  {
   "cell_type": "markdown",
   "id": "8831d5a9",
   "metadata": {},
   "source": [
    "# Výpočet tepové frekvence z EKG signálu \n",
    "## Vypracovali Marek Tremel, Radek Novák a Kseniia Mahalias\n",
    "\n",
    "**Zadání** : Ve zdrojové databázi najdete celkem 18 měření EKG signálu pro různé věkové skupiny. Signál\n",
    "obsahuje různé anomálie a nemusí být vždy centralizován podle vodorovné osy. EKG signál\n",
    "obsahuje dominantní peaky, které se nazývají R vrcholy. Vzdálenost těchto vrcholů určuje dobu\n",
    "mezi jednotlivými tepy. Počet tepů za minutu je tedy počet R vrcholů v signálu o délce jedné\n",
    "minuty. Navrhněte algoritmus, který bude automaticky detekovat počet R vrcholů v EKG\n",
    "signálech a prezentujte tepovou frekvenci při jednotlivých jízdách/měřeních. Vás algoritmus\n",
    "následně otestujte na databázi MIT-BIH https://physionet.org/content/nsrdb/1.0.0/ a\n",
    "prezentujte jeho úspěšnost vzhledem k anotovaným datům z databáze.\n",
    "\n",
    "----------\n",
    "\n"
   ]
  },
  {
   "cell_type": "markdown",
   "id": "4f0c2ff2",
   "metadata": {},
   "source": [
    "## Použité knihovny"
   ]
  },
  {
   "cell_type": "code",
   "execution_count": 33,
   "id": "6665e0cb",
   "metadata": {},
   "outputs": [],
   "source": [
    "import os\n",
    "\n",
    "import pandas as pd\n",
    "import wfdb # knihovna pro stahování EKG záznamů z PhysioNet\n",
    "import numpy as np\n",
    "from scipy.signal import butter, filtfilt"
   ]
  },
  {
   "cell_type": "markdown",
   "id": "54fe940d",
   "metadata": {},
   "source": [
    "## Parametry pro nastavení zpracování dat"
   ]
  },
  {
   "cell_type": "code",
   "execution_count": 34,
   "id": "537b2636",
   "metadata": {},
   "outputs": [],
   "source": [
    "sampfrom = 0  # Počáteční index vzorku\n",
    "nsamp = 10  # Počet vzorků\n",
    "lowcut = 0.5  # Dolní hranice pásmové filtrace (Hz), odstraní velmi nízkofrekvenční složky\n",
    "highcut = 2.211  # Horní hranice pásmové filtrace (Hz)б potlačí vysokofrekvenční šum\n",
    "filter_order = 4  # Pořadí filtru\n",
    "threshold = 0.0001  # Práh pro detekci R vrcholů"
   ]
  },
  {
   "cell_type": "markdown",
   "id": "9507fd9f",
   "metadata": {},
   "source": [
    "\n",
    "## Pásmová filtrace\n",
    "Pásmová filtrace je metoda zpracování signálu, která umožňuje propustit pouze požadované frekvence a odstranit nežádoucí složky signálu.\n",
    "Používá se k redukci šumu a zlepšení kvality signálu, což je klíčové při analýze EKG.\n",
    "\n",
    "\n",
    "1. **Výpočet Nyquistovy frekvence**: Nyquistova frekvence odpovídá polovině vzorkovací frekvence (fs) a definuje maximální frekvenci, kterou lze přesně reprezentovat bez zkreslení aliasingem. Více informací: https://en.wikipedia.org/wiki/Nyquist_frequency\n",
    "2. **Normalizace mezních frekvencí**: Dolní a horní mezní frekvence se převádějí na hodnoty relativní k Nyquistově frekvenci, což umožňuje přesnou filtraci signálu a eliminuje zkreslení způsobené hraničními efekty.\n",
    "3. **Návrh Butterworthova filtru**: Funkce *butter* z knihovny *scipy.signal* generuje koeficienty filtru *b* a *a*, které odpovídají požadovanému řádu filtru a specifikovaným mezním frekvencím. Butterworthův filtr je oblíbený díky své rovnoměrné frekvenční odezvě a minimálnímu zkreslení signálu. Další informace: https://en.wikipedia.org/wiki/Butterworth_filter\n",
    "4. **Aplikace filtru**: Funkce *filtfilt* provádí obousměrné filtrování signálu, což znamená, že signál je filtrován nejprve v jednom směru a následně v opačném směru. Tento proces minimalizuje fázové zkreslení a zajišťuje, že tvar signálu zůstane co nejvěrnější originálu. Více informací o funkci *filtfilt*: https://docs.scipy.org/doc/scipy/reference/generated/scipy.signal.filtfilt.html\n"
   ]
  },
  {
   "cell_type": "code",
   "execution_count": 35,
   "id": "75723a15",
   "metadata": {},
   "outputs": [],
   "source": [
    "def bandpass_filter(signal, lowcut, highcut, fs, order):\n",
    "    \"\"\"Funkce implementující pásmovou filtraci signálu.\n",
    "\n",
    "    Args:\n",
    "        signal: vstupní signál, který má být filtrován.\n",
    "        lowcut: dolní mez (Hz).\n",
    "        highcut: horní dolní mez (Hz).\n",
    "        fs: vzorkovací frekvence signálu.\n",
    "        order: řád filtru, který určuje strmost filtru.\n",
    "\n",
    "    Returns:\n",
    "        Filtrovaný signál.\n",
    "    \"\"\"\n",
    "    nyquist = 0.5 * fs\n",
    "    low = lowcut / nyquist\n",
    "    high = highcut / nyquist\n",
    "    b, a = butter(order, [low, high], btype=\"band\")\n",
    "    return filtfilt(b, a, signal)"
   ]
  },
  {
   "cell_type": "markdown",
   "id": "09b411c5",
   "metadata": {},
   "source": [
    "## Funkce pro výpočet tepové frekvence (BPM) z detekovaných R vrcholů\n",
    "Při analýze EKG signálu je možné odhadnout tepovou frekvenci pomocí detekovaných R-vrcholů.\n",
    "\n",
    "*Pokud je detekováno více než jedno maximum (`peaks.size > 1`)*\n",
    "\n",
    "1. Nejprve se stanoví časové vzdálenosti mezi jednotlivými vrcholy - rozdíl mezi sousedními indexy (*`np.diff(peaks)`*).\n",
    "2. Následně se tyto hodnoty převedou na časové intervaly, což se provede dělením získaných rozdílů odpovídající vzorkovací frekvencí (*`sampling_frequency`*).\n",
    "3. Výsledný průměrný interval mezi R-vrcholy se použije k výpočtu tepové frekvence\n",
    "\n",
    "Metodika výpočtu BPM: https://en.wikipedia.org/wiki/Heart_rate\n"
   ]
  },
  {
   "cell_type": "code",
   "execution_count": 36,
   "id": "d676ae76",
   "metadata": {},
   "outputs": [],
   "source": [
    "def calculate_heart_rate(peaks, sampling_frequency):\n",
    "    \"\"\"Funkce pro výpočet tepové frekvence (BPM) z detekovaných R vrcholů.\n",
    "\n",
    "    Args:\n",
    "        peaks: indexy detekovaných R vrcholů.\n",
    "\n",
    "    Returns:\n",
    "        Tepová frekvence v BPM.\n",
    "    \"\"\"\n",
    "    if peaks.size > 1:\n",
    "        # Výpočet intervalů mezi R vrcholy\n",
    "        # np.diff(peaks) vypočítá rozdíly mezi po sobě jdoucími indexy vrcholů, což představuje počet vzorků mezi vrcholy.\n",
    "        # Dělením vzorkovací frekvencí (sampling_frequency) se tyto rozdíly převedou na časové intervaly v sekundách.\n",
    "        r_peak_intervals = np.diff(peaks) / sampling_frequency\n",
    "        # Výpočet průměrné tepové frekvence:\n",
    "        # np.mean(r_peak_intervals) vypočítá průměrný interval mezi R vrcholy.\n",
    "        # Tepová frekvence (BPM) je rovna 60 děleno průměrným intervalem mezi R vrcholy.\n",
    "        # Pokud nebyly detekovány žádné R vrcholy, je tepová frekvence nastavena na 0.\n",
    "        return 60 / np.mean(r_peak_intervals) if r_peak_intervals.size > 0 else 0\n",
    "    else:\n",
    "        return 0\n"
   ]
  },
  {
   "cell_type": "markdown",
   "id": "0d6f9db1",
   "metadata": {},
   "source": [
    "V rámci zpracování dat bylo nejprve nutné identifikovat unikátní soubory v dané složce a zajistit, aby obsahovaly platná data. Následně byl každý soubor analyzován postupně:\n",
    "\n",
    "- EKG signál a jeho parametry byly načteny pomocí *`wfdb.rdsamp()`*.\n",
    "- Referenční R-vrcholy byly extrahovány metodou *`wfdb.rdann()`*.\n",
    "- Aplikovali jsme pásmovou filtraci(*`def bandpass_filter`*) pro odstranění šumu.\n",
    "- Provedli jsme výpočet derivace signálu.\n",
    "- Identifikovali jsme nulové průchody v derivaci a aplikovali filtraci na základě definovaného prahu.\n",
    "\n",
    "Poté byla vypočítána tepová frekvence (BPM) jak pro detekované R-vrcholy - *`calculate_heart_rate`*, tak pro referenční data, a získané výsledky byly uloženy do struktury Pandas DataFrame. Přesnost detekce byla následně vyhodnocena."
   ]
  },
  {
   "cell_type": "code",
   "execution_count": 30,
   "id": "88abd5cb",
   "metadata": {},
   "outputs": [],
   "source": [
    "def get_data():\n",
    "    \"\"\"\n",
    "        Funkce provádí načtení, filtraci a analýzu EKG signálu z databáze.\n",
    "        Postup:\n",
    "\n",
    "        Returns:\n",
    "            pd.DataFrame: Tabulka obsahující názvy souborů, vypočtené BPM a přesnost.\n",
    "    \"\"\"\n",
    "    # Načtení dat\n",
    "    data: list = []\n",
    "\n",
    "    # Načtení názvů souborů\n",
    "    filenames = set()\n",
    "    main_directory = r\"C:\\Users\\kseni\\data\\real_ekg\"\n",
    "    for idx, file in enumerate(os.listdir(main_directory)):\n",
    "        # if idx == 20:\n",
    "        #     break\n",
    "        if file.endswith(\".dat\"):\n",
    "            filenames.add(file.split(\".\")[0])\n",
    "\n",
    "    print(f\"Počet souborů: {len(filenames)}\")\n",
    "    # Procházení souborů\n",
    "    for name in filenames:\n",
    "        # Načtení signálu a informací o signálu\n",
    "        record_path = os.path.join(main_directory, name)\n",
    "\n",
    "        # Načtení signálu a informací o signálu\n",
    "        record = wfdb.rdsamp(record_path, sampfrom=sampfrom, sampto=sampfrom + nsamp)\n",
    "\n",
    "        # Načtení referenčních R vrcholů\n",
    "        true_peaks = wfdb.rdann(\n",
    "            record_path, extension=\"atr\", sampfrom=sampfrom, sampto=sampfrom + nsamp\n",
    "        ).sample\n",
    "\n",
    "        # Signál\n",
    "        signal = record[0][:, 0]\n",
    "        fields = record[1]\n",
    "\n",
    "        # Vzorkovací frekvence (Hz)\n",
    "        sampling_frequency = fields[\"fs\"]\n",
    "\n",
    "        # Normalizace signálu\n",
    "        # Tak, aby měl nulový průměr a jednotkovou směrodatnou odchylku\n",
    "        signal_normalized = (signal - np.mean(signal)) / np.std(signal)\n",
    "\n",
    "        # Aplikace filtrace\n",
    "        try:\n",
    "            signal_processed = bandpass_filter(\n",
    "                signal_normalized, lowcut, highcut, sampling_frequency, filter_order\n",
    "            )\n",
    "        except ValueError as e:\n",
    "            print(f\"Chyba filtrace: {e}\")\n",
    "            signal_processed = signal_normalized\n",
    "\n",
    "        # Derivace signálu je užitečná pro detekci změn v signálu, jako jsou vrcholy a průchody nulou.\n",
    "        # V kontextu EKG signálu se derivace používá k detekci R vrcholů, které odpovídají srdečním úderům.\n",
    "        derivative = np.gradient(signal_processed)\n",
    "\n",
    "        # Hledání nulových průchodů podle derivace\n",
    "        zero_crossings = np.where((derivative[:-1] > 0) & (derivative[1:] < 0))[0]\n",
    "\n",
    "        # Filtrace nulových průchodů podle prahu\n",
    "        peaks = zero_crossings[\n",
    "            (signal_processed[zero_crossings] > threshold)\n",
    "            & (zero_crossings < len(signal_processed))\n",
    "        ]\n",
    "        # Přidání výsledků do seznamu\n",
    "        # Název souboru, vypočítaná tepová frekvence, referenční tepová frekvence\n",
    "        data.append(\n",
    "            [\n",
    "                name,\n",
    "                calculate_heart_rate(peaks, sampling_frequency),\n",
    "                calculate_heart_rate(true_peaks, sampling_frequency),\n",
    "            ]\n",
    "        )\n",
    "    # Vytvoření DataFrame\n",
    "    df = pd.DataFrame(data, columns=[\"name\", \"heart_rate\", \"true_heart_rate\"])\n",
    "    # Výpočet přesnosti\n",
    "    df[\"accuracy\"] = (\n",
    "        1 - abs(df[\"heart_rate\"] - df[\"true_heart_rate\"]) / df[\"true_heart_rate\"]\n",
    "    ) * 100\n",
    "    return df"
   ]
  },
  {
   "cell_type": "markdown",
   "id": "9b8f61e9",
   "metadata": {},
   "source": [
    "*Problémy během implementace*\n",
    "\n",
    "Během řešení jsme narazili na několik nečekaných překážek. Původně jsme pracovali v prostředí Jupyter Notebook, kde jsme se setkali s chybou při načítání referenčních dat. Hlavním problémem byla inkompatibilita datového typu **int8**, což vedlo k přetečení hodnot a nesprávným výsledkům. Přesun k tradičnímu Python skriptu se ukázal jako efektivní řešení, protože umožnil snadnější manipulaci s daty a odstranění problémů s kompatibilitou.\n",
    "\n",
    "Paradoxně, když jsme se po dokončení implementace pokusili znovu otevřít projekt v Jupyter Notebook, k našemu překvapení začalo vše fungovat správně. Tento problém nás zdržel více, než jsme původně očekávali, a nakonec se ukázalo, že šlo o drobnou chybu v předzpracování dat, která nás stála zbytečně mnoho času na ladění :(. "
   ]
  },
  {
   "cell_type": "markdown",
   "id": "486ba4cf",
   "metadata": {},
   "source": [
    "## Volání finální funkce a výpis výsledků"
   ]
  },
  {
   "cell_type": "code",
   "execution_count": 39,
   "id": "32d616d0",
   "metadata": {},
   "outputs": [
    {
     "name": "stdout",
     "output_type": "stream",
     "text": [
      "Počet souborů: 0\n",
      "Empty DataFrame\n",
      "Columns: [name, heart_rate, true_heart_rate, accuracy]\n",
      "Index: []\n",
      "Průměrná přesnost: nan %\n"
     ]
    }
   ],
   "source": [
    "df: pd.DataFrame = get_data()\n",
    "print(df)\n",
    "print(f\"Průměrná přesnost: {df['accuracy'].mean()} %\")"
   ]
  },
  {
   "cell_type": "markdown",
   "id": "278e274f",
   "metadata": {},
   "source": [
    "## Hodnocení  \n",
    "\n",
    "V tomto úseku jsme porovnávali vytvořený algoritmus proti referenčním datům, abychom ověřili jeho přesnost a spolehlivost.  \n",
    "\n",
    "Během řešení zadaného úkolu jsme narazili na problém s načítáním referenčních dat v Jupyter Notebook. Ukázalo se, že hlavním důvodem byla inkompatibilita datového typu `int8`, která vedla k přetečení hodnot a nesprávným výsledkům. Po několika pokusech o opravu jsme se rozhodli přesunout analýzu do klasického Python skriptu, což se ukázalo jako efektivní řešení.  \n",
    "\n",
    "Jakmile jsme upravili parametry pro zajištění kompatibility dat, signál byl úspěšně načten, zpracován a byly extrahovány hodnoty BPM. Získané výsledky jsme uložili do struktury Pandas DataFrame a provedli jejich vyhodnocení. Přesnost detekce dosáhla !**93,5 %**, což znamená, že algoritmus dokázal ve většině případů správně identifikovat R-vrcholy a vypočítat odpovídající tepovou frekvenci. I když tato hodnota není stoprocentní, považujeme ji za **velmi dobrou**, jelikož rozdíl oproti referenčním datům byl minimální a většina odchylek se pohybovala v toleranci několika tepů za minutu.  \n",
    "\n",
    "Po dokončení skriptu jsme zkusili znovu spustit analýzu v Jupyter Notebook, kde všechno začalo fungovat správně. To bylo poněkud frustrující, protože jsme ztratili spoustu času laděním problému, který se nakonec „vyřešil sám“.  \n",
    "\n",
    "Tato část seminární práce pro mě byla zajímavá nejen kvůli technické stránce, ale i proto, že jsem si poprvé doopravdy uvědomila, jak se vlastně tepová frekvence počítá. Přiznávám, že mě to nikdy předtím nenapadlo, ale během implementace algoritmu jsem se musela detailně zamyslet nad tím, jak se BPM detekuje na základě R-vrcholů v EKG signálu.  \n",
    "\n",
    "Celkově bylo zadání složitější, než jsem původně očekávala. Nejvíce problémů nezpůsobovalo samotné zpracování signálu, ale spíše správné načtení a příprava dat. Přesto se podařilo všechny překážky překonat a dosáhnout solidních výsledků, což mi ukázalo, jak důležité je nejen správné programování, ale i pochopení dat, se kterými člověk pracuje."
   ]
  },
  {
   "cell_type": "markdown",
   "id": "32c158fc",
   "metadata": {},
   "source": [
    "# Výpočet tepové frekvence z EKG signálu (2)\n",
    "\n",
    "**Zadání** : Ve zdrojové databázi najdete celkem 18 měření EKG obsahující úplné (3 signály) nebo částečné\n",
    "anotace událostí (P,T vlny a QRS komplex). Záznamy EKg obsahují i části, které jsou porušeny\n",
    "vlivem anomálií (vnější rušení, manipulace s pacientem apod.). Navrhněte způsob, jak\n",
    "detekovat tyto úseky a prezentujte statistiku výskytu úseků v měřeních.\n"
   ]
  },
  {
   "cell_type": "markdown",
   "id": "10b61b3a",
   "metadata": {},
   "source": [
    "## Použité knihovny (Žádná změna)"
   ]
  },
  {
   "cell_type": "code",
   "execution_count": 40,
   "id": "55fff84e",
   "metadata": {},
   "outputs": [],
   "source": [
    "import os\n",
    "\n",
    "import wfdb\n",
    "import matplotlib.pyplot as plt\n",
    "import numpy as np\n",
    "from scipy.signal import butter, filtfilt"
   ]
  },
  {
   "cell_type": "markdown",
   "id": "e665b27b",
   "metadata": {},
   "source": [
    "## Parametry pro nastavení zpracování dat (Žádná změna)"
   ]
  },
  {
   "cell_type": "code",
   "execution_count": 41,
   "id": "73348727",
   "metadata": {},
   "outputs": [],
   "source": [
    "lowcut = 0.5  # Dolní hranice \n",
    "highcut = 50.0  # Horní hranice pásmové filtrace (Hz)\n",
    "filter_order = 4  # Pořadí filtru\n",
    "threshold = 2.0  # Threshold pro detekci anomálií"
   ]
  },
  {
   "cell_type": "markdown",
   "id": "26562a99",
   "metadata": {},
   "source": [
    "## Funkce pro zpracování dat"
   ]
  },
  {
   "cell_type": "markdown",
   "id": "67631450",
   "metadata": {},
   "source": [
    "## Pásmová filtrace (Žádná změna)"
   ]
  },
  {
   "cell_type": "code",
   "execution_count": 42,
   "id": "a97aaf7d",
   "metadata": {},
   "outputs": [],
   "source": [
    "def bandpass_filter(signal: np.ndarray, lowcut: float, highcut: float, fs: float, order: int) -> np.ndarray:\n",
    "    \"\"\"Funkce pro pásmovou filtrační metodu\n",
    "\n",
    "    Returns:\n",
    "        Filtrovaný signál.\n",
    "    \"\"\"\n",
    "    nyquist = 0.5 * fs\n",
    "    low = lowcut / nyquist\n",
    "    high = highcut / nyquist\n",
    "    b, a = butter(order, [low, high], btype=\"band\")\n",
    "    return filtfilt(b, a, signal)"
   ]
  },
  {
   "cell_type": "markdown",
   "id": "7f962237",
   "metadata": {},
   "source": [
    "##  **Funkce sloužící k detekci anomálií v signálu na základě prahové hodnoty.**\n",
    "\n",
    "Tato funkce identifikuje anomální hodnoty na základě statistických ukazatelů:\n",
    "\n",
    "- Výpočet základních charakteristik – stanoví se průměr a směrodatná odchylka, které slouží jako referenční hodnoty.\n",
    "- Detekce anomálií – pokud je absolutní rozdíl mezi hodnotou a průměrem větší než *threshold* × směrodatná odchylka, hodnota je označena jako anomální.\n",
    "- Výstup analýzy – výsledkem je seznam indexů anomálií, průměr signálu a směrodatná odchylka.\n"
   ]
  },
  {
   "cell_type": "code",
   "execution_count": 43,
   "id": "c92b56c7",
   "metadata": {},
   "outputs": [],
   "source": [
    "def detect_anomalies(signal: np.ndarray, threshold: float = 3.0) -> np.ndarray:\n",
    "    \"\"\"Detekuje anomálie na základě prahové hodnoty.\n",
    "\n",
    "    Args:\n",
    "        signal: signál, ve kterém se mají detekovat anomálie.\n",
    "        threshold: hodnota, která určuje, kdy je hodnota signálu považována za anomálii.\n",
    "\n",
    "    Returns:\n",
    "        Pole indexů, kde byla detekována anomálie, průměr a směrodatná odchylka signálu.\n",
    "    \"\"\"\n",
    "    mean = np.mean(signal)\n",
    "    std = np.std(signal)\n",
    "    anomalies = np.abs(signal - mean) > threshold * std\n",
    "    return np.nonzero(anomalies)[0], mean, std"
   ]
  },
  {
   "cell_type": "markdown",
   "id": "5eaf9ac4",
   "metadata": {},
   "source": [
    "## Načtení pracovního adresáře"
   ]
  },
  {
   "cell_type": "code",
   "execution_count": 51,
   "id": "63c71ee0",
   "metadata": {},
   "outputs": [],
   "source": [
    "# Hlavní adresář se složkami EKG měření\n",
    "main_directory = r\"C:\\Users\\kseni\\data\\real_ekg\"\n",
    "\n",
    "# Pro jednu konkrétní složku (\"100002\") detekujeme anomálie\n",
    "ekg_directory = os.path.join(main_directory, \"100002\")\n",
    "\n",
    "# Načtení všech dostupných souborů ve složce\n",
    "files = os.listdir(ekg_directory)\n",
    "signal_basenames = set(f.split(\".\")[0] for f in files if f.endswith(\"ECG.dat\"))"
   ]
  },
  {
   "cell_type": "markdown",
   "id": "f0c373d8",
   "metadata": {},
   "source": [
    "### Zpracování EKG signálu a detekce anomálií  \n",
    "\n",
    "Tento kód provádí následující kroky:  \n",
    "\n",
    "1. Kontrola dostupnosti signálu - Pokud existují soubory, vybere se první název signálu a sestaví se jeho cesta.  \n",
    "2. Načtení signálu - Data jsou načtena pomocí wfdb.rdsamp(). Záznam obsahuje matici vzorků a metadata. Používá se pouze první kanál EKG signálu.  \n",
    "3. Určení vzorkovací frekvence - Frekvence vzorkování (fs) se získá z metadat.  \n",
    "4. Omezení počtu vzorků - Z důvodu výpočetní náročnosti se signál omezí na prvních 6000 vzorků.  \n",
    "5. Normalizace signálu - Signál je převeden tak, aby měl průměr 0 a směrodatnou odchylku 1.  \n",
    "6. Filtrace signálu - Aplikuje se pásmový filtr, který odstraní nežádoucí frekvence. Pokud filtrace selže, signál se ponechá normalizovaný.  \n",
    "7. Detekce anomálií - Pomocí funkce detect_anomalies() se identifikují odchylky od normálního chování signálu. Výstupem je seznam indexů anomálií, průměr a směrodatná odchylka.  \n",
    "8. Výpočet prahových hodnot - Stanoví se horní a dolní hranice prahu pro vizualizaci anomálií."
   ]
  },
  {
   "cell_type": "code",
   "execution_count": 52,
   "id": "b854df93",
   "metadata": {},
   "outputs": [],
   "source": [
    "if len(signal_basenames) > 0:\n",
    "    signal_basename = list(signal_basenames)[0]\n",
    "    record_path = os.path.join(ekg_directory, signal_basename)\n",
    "\n",
    "    # Načtení signálu\n",
    "    record = wfdb.rdsamp(record_path)\n",
    "    signal = record[0][:, 0]  # První kanál\n",
    "    fields = record[1]\n",
    "\n",
    "    # Vzorkovací frekvence (Hz)\n",
    "    sampling_frequency = fields[\"fs\"] \n",
    "    \n",
    "\n",
    "    # Pouze prvních 6000 vzorků\n",
    "    # Omezení, kvůli náročnosti výpočtu\n",
    "    def select_range(signal: np.ndarray, start: int, end: int) -> np.ndarray:\n",
    "        return signal[start:end]\n",
    "    signal = select_range(signal, 0, 6000)\n",
    "\n",
    "    # Normalizace signálu\n",
    "    signal_normalized = (signal - np.mean(signal)) / np.std(signal)\n",
    "\n",
    "    # Aplikace filtrace\n",
    "    try:\n",
    "        signal_processed = bandpass_filter(signal_normalized, lowcut, highcut, sampling_frequency, filter_order)\n",
    "    except ValueError as e:\n",
    "        print(f\"Chyba filtrace: {e}\")\n",
    "        signal_processed = signal_normalized\n",
    "\n",
    "    # Detekce anomálií\n",
    "    # Funkce vrátí pole indexů, kde byla detekována anomálie, průměr a směrodatná odchylka signálu.\n",
    "    # výpočet trenholdu pro detekci a vykreslení v grafu\n",
    "    anomalies, mean, std = detect_anomalies(signal_processed, threshold)\n",
    "    threshold_upper = mean + threshold * std\n",
    "    threshold_lower = mean - threshold * std"
   ]
  },
  {
   "cell_type": "markdown",
   "id": "4d6ccf01",
   "metadata": {},
   "source": [
    "## Vykreslení grafů"
   ]
  },
  {
   "cell_type": "code",
   "execution_count": 53,
   "id": "85c5073f",
   "metadata": {},
   "outputs": [
    {
     "data": {
      "image/png": "[encoded data removed]",
      "text/plain": [
       "<Figure size 1200x600 with 1 Axes>"
      ]
     },
     "metadata": {},
     "output_type": "display_data"
    }
   ],
   "source": [
    "# Vykreslení celého signálu s označenými anomáliemi\n",
    "if len(signal_basenames) > 0:\n",
    "    plt.figure(figsize=(12, 6))\n",
    "    plt.plot(signal_processed, label=\"Zpracovaný EKG signál\")\n",
    "    plt.scatter(anomalies, signal_processed[anomalies], color=\"red\", label=\"Anomálie\", s=50)\n",
    "    plt.axhline(y=threshold_upper, color='green', linestyle='--', label=f'Threshold (+{threshold_upper:.2f})')\n",
    "    plt.axhline(y=threshold_lower, color='green', linestyle='--', label=f'Threshold (-{threshold_lower:.2f})')\n",
    "    plt.title(\"Zpracovaný EKG signál s detekovanými anomáliemi (prvních 6000 vzorků)\")\n",
    "    plt.xlabel(\"Vzorky\")\n",
    "    plt.ylabel(\"Amplituda\")\n",
    "    plt.legend()\n",
    "    plt.grid()\n",
    "    plt.show()\n",
    "    \n",
    "    \n",
    " # # Vykreslení jednotlivých anomálních úseků\n",
    "    # for anomaly in anomalies:\n",
    "    #     start = max(0, anomaly - 100)\n",
    "    #     end = min(len(signal_processed), anomaly + 100)\n",
    "    #     plt.figure(figsize=(10, 4))\n",
    "    #     plt.plot(range(start, end), signal_processed[start:end], label=\"Anomální úsek\")\n",
    "    #     plt.axvline(x=anomaly, color=\"red\", linestyle=\"--\", label=\"Anomálie\")\n",
    "    #     plt.title(\"Detail anomálního úseku\")\n",
    "    #     plt.xlabel(\"Vzorky\")\n",
    "    #     plt.ylabel(\"Amplituda\")\n",
    "    #     plt.legend()\n",
    "    #     plt.grid()\n",
    "    #     plt.show()"
   ]
  },
  {
   "cell_type": "markdown",
   "id": "6a29ad23",
   "metadata": {},
   "source": [
    "# Hodnocení\n",
    "\n",
    "Tento projekt se zaměřil na detekci anomálií v EKG signálu pomocí Pythonu. Cílem bylo nejen správně načíst a předzpracovat data, ale také aplikovat metody pro identifikaci neobvyklých vzorců v signálu.\n",
    "\n",
    "Pro detekci anomálií jsme použili **statistický přístup** s prahovou hodnotou – po výpočtu průměru a směrodatné odchylky byly identifikovány hodnoty s výraznou odchylkou od normálu. Ukázalo se, že správná normalizace a filtrace jsou klíčové pro přesnost výsledků.\n",
    "\n",
    "Projekt mi dal praktický pohled na práci s biomedicínskými signály a umožnil mi vidět, jak se základní statistické pojmy, které aktuálně studuji, využívají v reálných aplikacích. Bylo zajímavé sledovat, jak směrodatná odchylka hraje konkrétní roli při odhalování odlehlých hodnot.\n",
    "\n",
    "Tento projekt mi ukázal, jak se teoretická statistika mění v praktický nástroj.\n"
   ]
  },
  {
   "cell_type": "markdown",
   "id": "00b4be45",
   "metadata": {},
   "source": [
    "# Výpočet tepové frekvence z EKG signálu (3)\n",
    "\n",
    "**Zadání** : Ve zdrojové databázi najdete celkem 18 měření EKG signálu pro různé věkové skupiny. Signál\n",
    "obsahuje různé anomálie a nemusí být vždy centralizován podle vodorovné osy. EKG signál\n",
    "obsahuje dominantní peaky, které se nazývají R vrcholy. Vzdálenost těchto vrcholů určuje dobu\n",
    "mezi jednotlivými tepy. Počet tepů za minutu je tedy počet R vrcholů v signálu o délce jedné\n",
    "minuty. Navrhněte algoritmus, který bude automaticky detekovat počet R vrcholů v EKG\n",
    "signálech a prezentujte tepovou frekvenci při jednotlivých jízdách/měřeních. Vás algoritmus\n",
    "následně otestujte na databázi MIT-BIH https://physionet.org/content/nsrdb/1.0.0/ a\n",
    "prezentujte jeho úspěšnost vzhledem k anotovaným datům z databáze.\n"
   ]
  },
  {
   "cell_type": "markdown",
   "id": "d87024da",
   "metadata": {},
   "source": [
    "## Použité knihovny"
   ]
  },
  {
   "cell_type": "code",
   "execution_count": 54,
   "id": "d2b4ceef",
   "metadata": {},
   "outputs": [],
   "source": [
    "import os\n",
    "\n",
    "import wfdb\n",
    "import matplotlib.pyplot as plt\n",
    "import numpy as np\n",
    "from scipy.signal import butter, filtfilt\n"
   ]
  },
  {
   "cell_type": "markdown",
   "id": "489cfcae",
   "metadata": {},
   "source": [
    "## Načtení pracovního adresáře"
   ]
  },
  {
   "cell_type": "code",
   "execution_count": 56,
   "id": "628ddae1",
   "metadata": {},
   "outputs": [
    {
     "name": "stdout",
     "output_type": "stream",
     "text": [
      "Nalezené složky: ['100001', '100002', '103001', '103002', '103003']\n"
     ]
    }
   ],
   "source": [
    "# Hlavní adresář se složkami EKG měření\n",
    "main_directory = r\"C:\\Users\\kseni\\data\\real_ekg\"\n",
    "\n",
    "# Načtení seznamu složek\n",
    "folders = sorted([f for f in os.listdir(main_directory) if os.path.isdir(os.path.join(main_directory, f))])[:5]\n",
    "print(f\"Nalezené složky: {folders}\")"
   ]
  },
  {
   "cell_type": "markdown",
   "id": "6326a172",
   "metadata": {},
   "source": [
    "## Parametry pro nastavení zpracování dat"
   ]
  },
  {
   "cell_type": "code",
   "execution_count": 57,
   "id": "47191c30",
   "metadata": {},
   "outputs": [],
   "source": [
    "lowcut = 0.5  # Dolní hranice pásmové filtrace (Hz)\n",
    "highcut = 50.0  # Horní hranice pásmové filtrace (Hz)\n",
    "filter_order = 4  # Pořadí filtru\n",
    "threshold = 0.5  # Práh pro detekci R vrcholů"
   ]
  },
  {
   "cell_type": "markdown",
   "id": "dbb9b562",
   "metadata": {},
   "source": [
    "## Pásmová filtrace"
   ]
  },
  {
   "cell_type": "code",
   "execution_count": 58,
   "id": "41400a2c",
   "metadata": {},
   "outputs": [],
   "source": [
    "def bandpass_filter(signal, lowcut, highcut, fs, order):\n",
    "    \"\"\"Funkce pro pásmovou filtrační metodu\n",
    "\n",
    "    Args:\n",
    "        signal: vstupní signál, který má být filtrován.\n",
    "        lowcut: dolní mez frekvenčního pásma\n",
    "        highcut: horní mez frekvenčního pásma.\n",
    "        fs: vzorkovací frekvence signálu.\n",
    "        order: řád filtru, který určuje strmost filtru.\n",
    "\n",
    "    Returns:\n",
    "        Filtrovaný signál.\n",
    "    \"\"\"\n",
    "    nyquist = 0.5 * fs\n",
    "    low = lowcut / nyquist\n",
    "    high = highcut / nyquist\n",
    "    b, a = butter(order, [low, high], btype=\"band\")\n",
    "    return filtfilt(b, a, signal)"
   ]
  },
  {
   "cell_type": "markdown",
   "id": "3bb7ef2a",
   "metadata": {},
   "source": [
    "**Procházení adresářů** – iterace přes složky obsahující EKG záznamy.\n",
    "Načítání signálů – otevření souborů a extrakce dat.\n",
    "Předzpracování signálu:\n",
    "\n",
    "**Normalizace** – úprava signálu na průměr 0 a směrodatnou odchylku 1.\n",
    "Filtrace – aplikace pásmové propusti k odstranění šumu a zvýraznění relevantních frekvencí.\n",
    "\n",
    "**Detekce R-vln**:\n",
    "\n",
    "Derivace – zvýraznění změn v signálu.\n",
    "Nulové průchody – identifikace bodů odpovídajících možným R-vlnám.\n",
    "Filtrování vrcholů – odstranění nesprávně detekovaných vrcholů na základě amplitudy.\n",
    "\n",
    "**Výpočet tepové frekvence:**\n",
    "\n",
    "Intervaly R-R – měření časových rozestupů mezi R-vlnami.\n",
    "Průměrná tepová frekvence – výpočet průměrného srdečního tepu na základě intervalů R-R.\n",
    "\n",
    "**Uložení výsledků** – zaznamenání názvu složky a vypočítané tepové frekvence.\n",
    "Vizualizace dat – vykreslení sloupcového grafu zobrazujícího tepovou frekvenci pro jednotlivá měření."
   ]
  },
  {
   "cell_type": "code",
   "execution_count": 59,
   "id": "1894bab8",
   "metadata": {},
   "outputs": [
    {
     "name": "stdout",
     "output_type": "stream",
     "text": [
      "Složka: 100001, Počet detekovaných R vrcholů: 186288, Průměrná tepová frekvence: 128.35 BPM\n",
      "Složka: 100002, Počet detekovaných R vrcholů: 184370, Průměrná tepová frekvence: 127.50 BPM\n",
      "Složka: 103001, Počet detekovaných R vrcholů: 213752, Průměrná tepová frekvence: 147.22 BPM\n",
      "Složka: 103002, Počet detekovaných R vrcholů: 203459, Průměrná tepová frekvence: 141.16 BPM\n",
      "Složka: 103003, Počet detekovaných R vrcholů: 219673, Průměrná tepová frekvence: 152.54 BPM\n"
     ]
    }
   ],
   "source": [
    "# Uložení výsledků BPM pro každé měření\n",
    "bpm_results = np.empty((0, 2), dtype=object)\n",
    "\n",
    "for folder in folders:\n",
    "    \n",
    "    ekg_directory = os.path.join(main_directory, folder)\n",
    "    files = os.listdir(ekg_directory)\n",
    "    signal_basenames = set(f.split(\".\")[0] for f in files if f.endswith(\"ECG.dat\"))\n",
    "\n",
    "\n",
    "    if len(signal_basenames) > 0:\n",
    "        signal_basename = list(signal_basenames)[0]\n",
    "        record_path = os.path.join(ekg_directory, signal_basename)\n",
    "\n",
    "        # Načtení signálu\n",
    "        record = wfdb.rdsamp(record_path)\n",
    "        signal = record[0][:, 0]  # První kanál\n",
    "        fields = record[1]\n",
    "\n",
    "        # Parametry\n",
    "        sampling_frequency = fields[\"fs\"]  # Vzorkovací frekvence (Hz)\n",
    "        \n",
    "\n",
    "        # Normalizace signálu\n",
    "        # Tak, aby měl nulový průměr a jednotkovou směrodatnou odchylku\n",
    "        signal_normalized = (signal - np.mean(signal)) / np.std(signal)\n",
    "\n",
    "        \n",
    "        # Aplikace filtrace\n",
    "        try:\n",
    "            signal_processed = bandpass_filter(signal_normalized, lowcut, highcut, sampling_frequency, filter_order)\n",
    "        except ValueError as e:\n",
    "            print(f\"Chyba filtrace: {e}\")\n",
    "            signal_processed = signal_normalized\n",
    "\n",
    "        # Derivace signálu je užitečná pro detekci změn v signálu, jako jsou vrcholy a průchody nulou. \n",
    "        # V kontextu EKG signálu se derivace používá k detekci R vrcholů, které odpovídají srdečním úderům.\n",
    "        derivative = np.gradient(signal_processed)\n",
    "\n",
    "        # Hledání nulových průchodů podle derivace\n",
    "        zero_crossings = np.where((derivative[:-1] > 0) & (derivative[1:] < 0))[0]\n",
    "\n",
    "        # Filtrace nulových průchodů podle prahu\n",
    "        peaks = zero_crossings[(signal_processed[zero_crossings] > threshold) & (zero_crossings < len(signal_processed))]\n",
    "\n",
    "\n",
    "        # Výpočet tepové frekvence\n",
    "        # Kontrola počtu detekovaných R vrcholů\n",
    "        if peaks.size > 1:\n",
    "            # Výpočet intervalů mezi R vrcholy\n",
    "            # np.diff(peaks) vypočítá rozdíly mezi po sobě jdoucími indexy vrcholů, což představuje počet vzorků mezi vrcholy.\n",
    "            # Dělením vzorkovací frekvencí (sampling_frequency) se tyto rozdíly převedou na časové intervaly v sekundách.\n",
    "            r_peak_intervals = np.diff(peaks) / sampling_frequency\n",
    "            # Výpočet průměrné tepové frekvence:\n",
    "            # np.mean(r_peak_intervals) vypočítá průměrný interval mezi R vrcholy.\n",
    "            # Tepová frekvence (BPM) je rovna 60 děleno průměrným intervalem mezi R vrcholy.\n",
    "            # Pokud nebyly detekovány žádné R vrcholy, je tepová frekvence nastavena na 0.\n",
    "            heart_rate = 60 / np.mean(r_peak_intervals) if r_peak_intervals.size > 0 else 0\n",
    "        else:\n",
    "            heart_rate = 0\n",
    "\n",
    "        print(f\"Složka: {folder}, Počet detekovaných R vrcholů: {len(peaks)}, Průměrná tepová frekvence: {heart_rate:.2f} BPM\")\n",
    "\n",
    "        # Uložení výsledků BPM\n",
    "        bpm_results = np.vstack((bpm_results, [folder, heart_rate]))\n"
   ]
  },
  {
   "cell_type": "markdown",
   "id": "2995f8a1",
   "metadata": {},
   "source": [
    "## Vykreslení grafu"
   ]
  },
  {
   "cell_type": "code",
   "execution_count": 60,
   "id": "63d28c1e",
   "metadata": {},
   "outputs": [
    {
     "data": {
      "image/png": "[encoded data removed]",
      "text/plain": [
       "<Figure size 1200x600 with 1 Axes>"
      ]
     },
     "metadata": {},
     "output_type": "display_data"
    }
   ],
   "source": [
    "folders = bpm_results[:, 0]\n",
    "bpm_values = bpm_results[:, 1].astype(float)\n",
    "\n",
    "plt.figure(figsize=(12, 6))\n",
    "plt.bar(folders, bpm_values, color=\"skyblue\")\n",
    "plt.title(\"Tepová frekvence (BPM) pro jednotlivá měření\")\n",
    "plt.xlabel(\"Měření\")\n",
    "plt.ylabel(\"BPM\")\n",
    "plt.xticks(rotation=45)\n",
    "plt.grid(axis=\"y\")\n",
    "plt.show()"
   ]
  },
  {
   "cell_type": "markdown",
   "id": "69ef219c",
   "metadata": {},
   "source": [
    "V rámci projektu zaměřeného na výpočet srdeční frekvence z EKG signálu jsme se soustředili na efektivní načítání dat a implementaci potřebných algoritmů pro jejich zpracování. Při realizaci projektu jsme se ale setkali s řadou výzev a komplikací, které nám poskytly cenné zkušenosti.\n",
    "\n",
    "Nejprve jsme provedli předzpracování EKG signálů, kde jsme využili normalizaci a pásmovou filtraci pomocí Butterworthova filtru. Tento krok byl zásadní pro odstranění šumu a zdůraznění relevantních frekvencí, avšak proces ladění parametrů filtru nás postavil před několik technických problémů, jako byla volba správných mezních frekvencí a minimalizace zkreslení signálu.\n",
    "\n",
    "Pro detekci R-vrcholů jsme aplikovali derivaci signálu a hledali nulové průchody, které jsme následně filtrovali dle stanoveného prahu. V této fázi jsme narazili na obtíže spojené s variabilitou tvaru signálu a různou úrovní šumu, což vyžadovalo pečlivé nastavení filtrů a optimalizaci detekčního algoritmu.\n",
    "\n",
    "Na základě detekovaných R-vrcholů jsme poté vypočítali průměrné intervaly mezi tepy (R-R intervaly) a následně průměrnou tepovou frekvenci. Přes všechny počáteční komplikace a nutnost ladění algoritmů jsme díky důkladnému testování a iterativnímu přístupu dosáhli uspokojivých výsledků.\n",
    "\n",
    "Tento projekt mi umožnil získat praktické zkušenosti se zpracováním EKG signálů pomocí různých metod a algoritmů v Pythonu, a především mě naučil, jak překonávat technické výzvy a hledat efektivní řešení v reálném prostředí."
   ]
  },
  {
   "cell_type": "markdown",
   "id": "cdb441fc",
   "metadata": {},
   "source": [
    "## Závěr\n",
    "\n",
    "- **Výpočet BPM:** Algoritmus úspěšně detekoval R-vrcholy a stanovil tepovou frekvenci s vysokou přesností.\n",
    "- **Detekce anomálií:** Byly identifikovány odchylky ve signálu způsobené artefakty a šumem.\n",
    "- **Porovnání databází:** Výsledky ukazují rozdílnou přesnost mezi BUTQDB a MIT-BIH, což reflektuje různé charakteristiky signálů.\n",
    "    "
   ]
  }
 ],
 "metadata": {
  "kernelspec": {
   "display_name": ".venv",
   "language": "python",
   "name": "python3"
  },
  "language_info": {
   "codemirror_mode": {
    "name": "ipython",
    "version": 3
   },
   "file_extension": ".py",
   "mimetype": "text/x-python",
   "name": "python",
   "nbconvert_exporter": "python",
   "pygments_lexer": "ipython3",
   "version": "3.12.9"
  }
 },
 "nbformat": 4,
 "nbformat_minor": 5
}
